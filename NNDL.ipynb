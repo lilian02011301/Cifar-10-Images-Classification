{
 "cells": [
  {
   "cell_type": "markdown",
   "id": "5d6cab69-5ccb-43a8-9e65-f62c33fff5c0",
   "metadata": {},
   "source": [
    "# Neural Networks and Deep Learning"
   ]
  },
  {
   "cell_type": "markdown",
   "id": "f49b414e-4372-4dd1-937f-36e0afc1311e",
   "metadata": {},
   "source": [
    "## Data Loading and pre-processing"
   ]
  },
  {
   "cell_type": "code",
   "execution_count": 35,
   "id": "39a0be7b-3cf7-4e7a-a0a4-95ba9c6b681e",
   "metadata": {},
   "outputs": [],
   "source": [
    "%matplotlib inline\n",
    "import matplotlib.pyplot as plt\n",
    "import torch\n",
    "import torchvision\n",
    "import torch.nn as nn"
   ]
  },
  {
   "cell_type": "code",
   "execution_count": 36,
   "id": "98a0a84c-41fc-4fae-be14-7dbc63585bd5",
   "metadata": {},
   "outputs": [],
   "source": [
    "def load_CIFAR10(batch_size, resize=None):\n",
    "    \"\"\"Download the CIFAR10 dataset and then load it into memory.\"\"\"\n",
    "    trans = [torchvision.transforms.RandomHorizontalFlip(p=0.5),# Horizontally flip the given image randomly with a given probability.\n",
    "             torchvision.transforms.RandomRotation(8), #Rotate the image by angle\n",
    "             torchvision.transforms.ToTensor(),\n",
    "        ]\n",
    "\n",
    "    trans = torchvision.transforms.Compose(trans)\n",
    "    CIFAR10_train = torchvision.datasets.CIFAR10(\n",
    "        root=\"../data\", train=True, transform=trans, download=True)\n",
    "    CIFAR10_test = torchvision.datasets.CIFAR10(\n",
    "        root=\"../data\", train=False, transform=trans, download=True)\n",
    "    return (torch.utils.data.DataLoader(CIFAR10_train, batch_size, shuffle=True,\n",
    "                            num_workers=2),\n",
    "            torch.utils.data.DataLoader(CIFAR10_test, batch_size, shuffle=False,\n",
    "                            num_workers=2))"
   ]
  },
  {
   "cell_type": "code",
   "execution_count": 37,
   "id": "20e5d7b2-89ef-4822-ad86-13a22f3f9581",
   "metadata": {},
   "outputs": [
    {
     "name": "stdout",
     "output_type": "stream",
     "text": [
      "Files already downloaded and verified\n",
      "Files already downloaded and verified\n"
     ]
    }
   ],
   "source": [
    "batch_size = 64 # Defines the batch size\n",
    "train_iter, test_iter = load_CIFAR10(batch_size) # Loads the fashion CIFAR10 dataset. `train_iter` and `test_iter` are `DataLoader` objects."
   ]
  },
  {
   "cell_type": "code",
   "execution_count": 38,
   "id": "a6facb2b-6f15-426c-8fd4-c016433cb940",
   "metadata": {},
   "outputs": [
    {
     "name": "stdout",
     "output_type": "stream",
     "text": [
      "torch.Size([64, 3, 32, 32])\n",
      "torch.Size([64])\n"
     ]
    }
   ],
   "source": [
    "X, y = next(iter(train_iter)) # Requests the first training batch\n",
    "print(X.size()) # Outputs the size of the batch. Each batch contains 64 images (due to batch_size=64). Each image is represented by a 3 x 32 x 32 tensor (number of channels x height x width). The images are in color, so there are three channels.\n",
    "print(y.size()) # Outputs the size of the targets for the batch. There are 64 targets corresponding to the 64 images, each target is a number between 0 and 9 representing one of the 10 classes in CIFAR10."
   ]
  },
  {
   "cell_type": "markdown",
   "id": "53e7b585-2a0f-433d-9f3e-6642dc7f7575",
   "metadata": {},
   "source": [
    "## Intermediate Block Generator"
   ]
  },
  {
   "cell_type": "code",
   "execution_count": 39,
   "id": "8814d167-4d34-45c1-87e4-fe452a102a73",
   "metadata": {},
   "outputs": [],
   "source": [
    "class IntermediateBlock(torch.nn.Module):\n",
    "    def __init__(self, in_channels, out_channels, num_conv_layers):\n",
    "        super(IntermediateBlock, self).__init__()\n",
    "        self.num_conv_layers = num_conv_layers\n",
    "        self.in_channels = in_channels\n",
    "        self.out_channels = out_channels\n",
    "        self.relu = torch.nn.ReLU()\n",
    "        # # Create a list of convolutional layers to be applied sequentially\n",
    "        self.conv_layers = torch.nn.ModuleList([torch.nn.Conv2d(in_channels, out_channels, kernel_size=3, padding=0) for _ in range(num_conv_layers)])\n",
    "        self.fc = torch.nn.Linear(in_channels, num_conv_layers) # A fully connected layer to get modulation scalars\n",
    "\n",
    "\n",
    "    def forward(self, x):\n",
    "        # Compute the average for each feature map to use as input for the fully connected layer\n",
    "        m = torch.mean(x, dim=[2, 3])  # Reduces each (B, C, H, W) feature map to (B, C)\n",
    "        m = self.fc(m) # Generates a scalar for each convolutional layer\n",
    "\n",
    "        # Compute the outputs of all convolutional layers\n",
    "        conv_outputs = [self.relu(conv(x)) for conv in self.conv_layers]\n",
    "\n",
    "        # Modulate the output of each convolutional layer by the corresponding scalar from the fully connected layer\n",
    "        im_m = []\n",
    "        for i in range(self.num_conv_layers):\n",
    "            n = m[:,i]\n",
    "            n = n.unsqueeze(-1).unsqueeze(-1).unsqueeze(-1) # Reshape to (B, 1, 1, 1) for broadcasting\n",
    "            im_m.append(n * conv_outputs[i]) # Element-wise multiplication\n",
    "\n",
    "        self.out = sum(im_m) #Sum the modulated outputs from all convolutional layers to form the final output\n",
    "\n",
    "        return self.out\n",
    "\n",
    "# The IntermediateBlock_2 and IntermediateBlock_3 classes have a similar structure to IntermediateBlock\n",
    "# with the primary difference being the input and output channels passed to the Conv2d layers.\n",
    "\n",
    "class IntermediateBlock_2(torch.nn.Module):\n",
    "    def __init__(self, out_channels, out_channels_2, num_conv_layers):\n",
    "        super(IntermediateBlock_2, self).__init__()\n",
    "        self.num_conv_layers = num_conv_layers\n",
    "        self.out_channels = out_channels\n",
    "        self.out_channels_2 = out_channels_2\n",
    "        self.conv_layers = torch.nn.ModuleList([torch.nn.Conv2d(out_channels, out_channels_2, kernel_size=3, padding=0) for _ in range(num_conv_layers)])\n",
    "        self.fc = torch.nn.Linear(out_channels, num_conv_layers)\n",
    "        self.relu = torch.nn.ReLU() # Creates the activation function\n",
    "\n",
    "    def forward(self, x):\n",
    "        # Compute the outputs of all convolutional layers\n",
    "        conv_outputs = [self.relu(conv(x)) for conv in self.conv_layers]\n",
    "\n",
    "        # Compute the average value for each channel\n",
    "        m = torch.mean(x, dim=[2, 3]) # Assuming x is of shape (B, C, H, W)\n",
    "        m = self.fc(m)\n",
    "\n",
    "        im_m = []\n",
    "        for i in range(self.num_conv_layers):\n",
    "            n = m[:,i]\n",
    "            n = n.unsqueeze(-1).unsqueeze(-1).unsqueeze(-1)\n",
    "            im_m.append(n * conv_outputs[i])\n",
    "\n",
    "        self.out = sum(im_m)\n",
    "\n",
    "        return self.out\n",
    "\n",
    "\n",
    "\n",
    "class IntermediateBlock_3(torch.nn.Module):\n",
    "    def __init__(self, out_channels_2, out_channels_3, num_conv_layers):\n",
    "        super(IntermediateBlock_3, self).__init__()\n",
    "        self.num_conv_layers = num_conv_layers\n",
    "        self.out_channels_2 = out_channels_2\n",
    "        self.out_channels_3 = out_channels_3\n",
    "        self.conv_layers = torch.nn.ModuleList([torch.nn.Conv2d(out_channels_2, out_channels_3, kernel_size=3, padding=0) for _ in range(num_conv_layers)])\n",
    "        self.fc = torch.nn.Linear(out_channels_2, num_conv_layers)\n",
    "        self.relu = torch.nn.ReLU() # Creates the activation function\n",
    "\n",
    "    def forward(self, x):\n",
    "        # Compute SSthe outputs of all convolutional layers\n",
    "        conv_outputs = [self.relu(conv(x)) for conv in self.conv_layers]\n",
    "\n",
    "        # Compute the average value for each channel\n",
    "        m = torch.mean(x, dim=[2, 3]) # Assuming x is of shape (B, C, H, W)\n",
    "        m = self.fc(m)\n",
    "\n",
    "        im_m = []\n",
    "        for i in range(self.num_conv_layers):\n",
    "            n = m[:,i]\n",
    "            n = n.unsqueeze(-1).unsqueeze(-1).unsqueeze(-1)\n",
    "            im_m.append(n * conv_outputs[i])\n",
    "\n",
    "        self.out = sum(im_m)\n",
    "\n",
    "        return self.out\n"
   ]
  },
  {
   "cell_type": "markdown",
   "id": "5e34bc39-0c6c-4bbf-9a78-cc26374ccbbc",
   "metadata": {},
   "source": [
    "## Final Model with the output block"
   ]
  },
  {
   "cell_type": "code",
   "execution_count": 40,
   "id": "65c439c2-d9f4-4af6-b9f9-c346aa4c024b",
   "metadata": {},
   "outputs": [],
   "source": [
    "class OutputBlock(torch.nn.Module):\n",
    "    def __init__(self, out_channels_3, num_classes):\n",
    "        super(OutputBlock, self).__init__()\n",
    "        self.global_avg_pool = torch.nn.AdaptiveAvgPool2d((1, 1))  # Global Average Pooling to reduce each channel to a single value.\n",
    "        self.fc = torch.nn.Linear(out_channels_3, num_classes)  # Fully Connected Layer for classification.\n",
    "\n",
    "    def forward(self, x):\n",
    "        #m = torch.mean(x, dim=[2, 3])\n",
    "        x = self.global_avg_pool(x)\n",
    "        x = x.view(x.size(0), -1)  # Flatten\n",
    "        x = self.fc(x)\n",
    "        return x"
   ]
  },
  {
   "cell_type": "code",
   "execution_count": 41,
   "id": "d6447622-d7d0-4196-a386-c7f52ca8cb13",
   "metadata": {},
   "outputs": [],
   "source": [
    "def init_weights(m):\n",
    "    if type(m) == torch.nn.Linear or type(m) == torch.nn.Conv2d:\n",
    "        torch.nn.init.xavier_uniform_(m.weight)"
   ]
  },
  {
   "cell_type": "code",
   "execution_count": 42,
   "id": "370db9f3-b66e-4042-9a7b-1d2be9ed9b91",
   "metadata": {},
   "outputs": [
    {
     "name": "stdout",
     "output_type": "stream",
     "text": [
      "Using cuda.\n",
      "Total number of parameters: 725.2K\n"
     ]
    }
   ],
   "source": [
    "import torch\n",
    "device = torch.device('cuda' if torch.cuda.is_available() else 'cpu')\n",
    "print(f'Using {device}.')\n",
    "\n",
    "in_channels = 3 # input channels for the first block\n",
    "out_channels = 32 # mid-layer channels for IntermediateBlock\n",
    "out_channels_1 = 64 #add another block here\n",
    "out_channels_2 = 128\n",
    "out_channels_3 = 128\n",
    "num_conv_layers = 3 # Number of conv layers for IntermediateBlock\n",
    "num_classes = 10  # Number of classes for Output\n",
    "\n",
    "maxpool = torch.nn.MaxPool2d(2)\n",
    "dropout = torch.nn.Dropout(0.3)\n",
    "\n",
    "intermediate_block_instance = IntermediateBlock(in_channels, out_channels, num_conv_layers)\n",
    "btchnom = torch.nn.BatchNorm2d(out_channels)\n",
    "\n",
    "intermediate_block_instance_1 = IntermediateBlock(out_channels, out_channels_1, num_conv_layers)\n",
    "btchnom1 = torch.nn.BatchNorm2d(out_channels_1)\n",
    "\n",
    "intermediate_block_instance_2 = IntermediateBlock_2(out_channels_1, out_channels_2, num_conv_layers)\n",
    "btchnom2 = torch.nn.BatchNorm2d(out_channels_2)\n",
    "\n",
    "intermediate_block_instance_3 = IntermediateBlock_3(out_channels_2, out_channels_3, num_conv_layers)\n",
    "btchnom3 = torch.nn.BatchNorm2d(out_channels_3)\n",
    "\n",
    "output_block_instance = OutputBlock(out_channels_3, num_classes)\n",
    "\n",
    "model = torch.nn.Sequential(\n",
    "    intermediate_block_instance,\n",
    "    btchnom,\n",
    "    intermediate_block_instance_1,\n",
    "    btchnom1,\n",
    "    maxpool,\n",
    "    dropout,\n",
    "    intermediate_block_instance_2,\n",
    "    btchnom2,\n",
    "    intermediate_block_instance_3,\n",
    "    btchnom3,\n",
    "    maxpool,\n",
    "    dropout,\n",
    "    output_block_instance\n",
    ").to(device)\n",
    "\n",
    "def init_weights(m):\n",
    "    if isinstance(m, torch.nn.Conv2d):\n",
    "        torch.nn.init.kaiming_normal_(m.weight, mode='fan_out', nonlinearity='relu')\n",
    "\n",
    "model.apply(init_weights)  # Applies `init_weights` to every `torch.nn.Module` inside `model`\n",
    "\n",
    "loss = torch.nn.CrossEntropyLoss()\n",
    "lr = 0.001\n",
    "optimizer = torch.optim.AdamW(model.parameters(), lr=lr)\n",
    "\n",
    "# Printing the number of parameters of the model for control and reference\n",
    "print(f'Total number of parameters: {sum(p.numel() for p in model.parameters())/1e3:.1f}K')\n"
   ]
  },
  {
   "cell_type": "markdown",
   "id": "f565886c",
   "metadata": {},
   "source": [
    "## Training"
   ]
  },
  {
   "cell_type": "code",
   "execution_count": 43,
   "id": "97826a2e-4282-4bf0-90b5-7eff0f9548d4",
   "metadata": {},
   "outputs": [],
   "source": [
    "def correct(logits, y):\n",
    "    y_hat = logits.argmax(axis=1) # Finds the column with the highest value for each row of `logits`.\n",
    "    return (y_hat == y).float().sum() # Computes the number of times that `y_hat` and `y` match."
   ]
  },
  {
   "cell_type": "code",
   "execution_count": 44,
   "id": "7fda0e26-d037-444d-89e9-d8ec0e1eddbb",
   "metadata": {},
   "outputs": [],
   "source": [
    "def evaluate_metric(model, data_iter, metric):\n",
    "    \"\"\"Compute the average `metric` of the model on a dataset.\"\"\"\n",
    "    c = 0.\n",
    "    n = 0.\n",
    "    for X, y in data_iter:\n",
    "        X, y = X.to(device), y.to(device) # Moves data to `device`\n",
    "        logits = model(X)\n",
    "        c += metric(logits, y)\n",
    "        n += len(y)\n",
    "\n",
    "    return float(c / n)"
   ]
  },
  {
   "cell_type": "code",
   "execution_count": 45,
   "id": "7c70de54-1258-4c20-ae29-186795b167cb",
   "metadata": {
    "scrolled": true
   },
   "outputs": [
    {
     "name": "stdout",
     "output_type": "stream",
     "text": [
      "Training accuracy: 0.09999999403953552. Testing accuracy: 0.09999999403953552.\n"
     ]
    }
   ],
   "source": [
    "model.eval() # This is necessary because batch normalization behaves differently between training and evaluation\n",
    "print(f'Training accuracy: {evaluate_metric(model, train_iter, correct)}. Testing accuracy: {evaluate_metric(model, test_iter, correct)}.')"
   ]
  },
  {
   "cell_type": "code",
   "execution_count": 46,
   "id": "aef72074-d741-47be-80e5-fffca66d5aa9",
   "metadata": {},
   "outputs": [
    {
     "name": "stdout",
     "output_type": "stream",
     "text": [
      "\n",
      "Epoch 1/50.\n",
      "Training accuracy: 0.36552000045776367. Testing accuracy: 0.36469998955726624.\n",
      "\n",
      "Epoch 2/50.\n",
      "Training accuracy: 0.5154399871826172. Testing accuracy: 0.5087000131607056.\n",
      "\n",
      "Epoch 3/50.\n",
      "Training accuracy: 0.5728600025177002. Testing accuracy: 0.5598999857902527.\n",
      "\n",
      "Epoch 4/50.\n",
      "Training accuracy: 0.6658599972724915. Testing accuracy: 0.6430000066757202.\n",
      "\n",
      "Epoch 5/50.\n",
      "Training accuracy: 0.7012799978256226. Testing accuracy: 0.6852999925613403.\n",
      "\n",
      "Epoch 6/50.\n",
      "Training accuracy: 0.7307800054550171. Testing accuracy: 0.7091000080108643.\n",
      "\n",
      "Epoch 7/50.\n",
      "Training accuracy: 0.7543599605560303. Testing accuracy: 0.7264999747276306.\n",
      "\n",
      "Epoch 8/50.\n",
      "Training accuracy: 0.7793999910354614. Testing accuracy: 0.7480999827384949.\n",
      "\n",
      "Epoch 9/50.\n",
      "Training accuracy: 0.7953599691390991. Testing accuracy: 0.7568999528884888.\n",
      "\n",
      "Epoch 10/50.\n",
      "Training accuracy: 0.809499979019165. Testing accuracy: 0.7630999684333801.\n",
      "\n",
      "Epoch 11/50.\n",
      "Training accuracy: 0.8208000063896179. Testing accuracy: 0.7752999663352966.\n",
      "\n",
      "Epoch 12/50.\n",
      "Training accuracy: 0.8294399976730347. Testing accuracy: 0.7738999724388123.\n",
      "\n",
      "Epoch 13/50.\n",
      "Training accuracy: 0.8434199690818787. Testing accuracy: 0.7823999524116516.\n",
      "\n",
      "Epoch 14/50.\n",
      "Training accuracy: 0.8410199880599976. Testing accuracy: 0.7809000015258789.\n",
      "\n",
      "Epoch 15/50.\n",
      "Training accuracy: 0.8621999621391296. Testing accuracy: 0.7864999771118164.\n",
      "\n",
      "Epoch 16/50.\n",
      "Training accuracy: 0.8548600077629089. Testing accuracy: 0.7893999814987183.\n",
      "\n",
      "Epoch 17/50.\n",
      "Training accuracy: 0.8782599568367004. Testing accuracy: 0.7997999787330627.\n",
      "\n",
      "Epoch 18/50.\n",
      "Training accuracy: 0.8876399993896484. Testing accuracy: 0.8061999678611755.\n",
      "\n",
      "Epoch 19/50.\n",
      "Training accuracy: 0.8708599805831909. Testing accuracy: 0.7908999919891357.\n",
      "\n",
      "Epoch 20/50.\n",
      "Training accuracy: 0.8929199576377869. Testing accuracy: 0.7986999750137329.\n",
      "\n",
      "Epoch 21/50.\n",
      "Training accuracy: 0.9000799655914307. Testing accuracy: 0.8050000071525574.\n",
      "\n",
      "Epoch 22/50.\n",
      "Training accuracy: 0.8972599506378174. Testing accuracy: 0.8043999671936035.\n",
      "\n",
      "Epoch 23/50.\n",
      "Training accuracy: 0.9004999995231628. Testing accuracy: 0.8054999709129333.\n",
      "\n",
      "Epoch 24/50.\n",
      "Training accuracy: 0.9089999794960022. Testing accuracy: 0.8084999918937683.\n",
      "\n",
      "Epoch 25/50.\n",
      "Training accuracy: 0.9157999753952026. Testing accuracy: 0.8082000017166138.\n",
      "\n",
      "Epoch 26/50.\n",
      "Training accuracy: 0.9152999520301819. Testing accuracy: 0.8034999966621399.\n",
      "\n",
      "Epoch 27/50.\n",
      "Training accuracy: 0.9168799519538879. Testing accuracy: 0.8047999739646912.\n",
      "\n",
      "Epoch 28/50.\n",
      "Training accuracy: 0.9267799854278564. Testing accuracy: 0.8138999938964844.\n",
      "\n",
      "Epoch 29/50.\n",
      "Training accuracy: 0.9263599514961243. Testing accuracy: 0.8065999746322632.\n",
      "\n",
      "Epoch 30/50.\n",
      "Training accuracy: 0.9271999597549438. Testing accuracy: 0.8030999898910522.\n",
      "\n",
      "Epoch 31/50.\n",
      "Training accuracy: 0.9290799498558044. Testing accuracy: 0.8003000020980835.\n",
      "\n",
      "Epoch 32/50.\n",
      "Training accuracy: 0.9261399507522583. Testing accuracy: 0.8029999732971191.\n",
      "\n",
      "Epoch 33/50.\n",
      "Training accuracy: 0.9390199780464172. Testing accuracy: 0.8100999593734741.\n",
      "\n",
      "Epoch 34/50.\n",
      "Training accuracy: 0.9402999877929688. Testing accuracy: 0.8107999563217163.\n",
      "\n",
      "Epoch 35/50.\n",
      "Training accuracy: 0.9462599754333496. Testing accuracy: 0.8111000061035156.\n",
      "\n",
      "Epoch 36/50.\n",
      "Training accuracy: 0.9387399554252625. Testing accuracy: 0.8061999678611755.\n",
      "\n",
      "Epoch 37/50.\n",
      "Training accuracy: 0.940779983997345. Testing accuracy: 0.8084999918937683.\n",
      "\n",
      "Epoch 38/50.\n",
      "Training accuracy: 0.9410199522972107. Testing accuracy: 0.8091999888420105.\n",
      "\n",
      "Epoch 39/50.\n",
      "Training accuracy: 0.9312999844551086. Testing accuracy: 0.8052999973297119.\n",
      "\n",
      "Epoch 40/50.\n",
      "Training accuracy: 0.9518599510192871. Testing accuracy: 0.8168999552726746.\n",
      "\n",
      "Epoch 41/50.\n",
      "Training accuracy: 0.9496399760246277. Testing accuracy: 0.8113999962806702.\n",
      "\n",
      "Epoch 42/50.\n",
      "Training accuracy: 0.959879994392395. Testing accuracy: 0.823699951171875.\n",
      "\n",
      "Epoch 43/50.\n",
      "Training accuracy: 0.9471399784088135. Testing accuracy: 0.812999963760376.\n",
      "\n",
      "Epoch 44/50.\n",
      "Training accuracy: 0.950439989566803. Testing accuracy: 0.8086000084877014.\n",
      "\n",
      "Epoch 45/50.\n",
      "Training accuracy: 0.9578399658203125. Testing accuracy: 0.8176999688148499.\n",
      "\n",
      "Epoch 46/50.\n",
      "Training accuracy: 0.9570399522781372. Testing accuracy: 0.8123999834060669.\n",
      "\n",
      "Epoch 47/50.\n",
      "Training accuracy: 0.9516800045967102. Testing accuracy: 0.8148999810218811.\n",
      "\n",
      "Epoch 48/50.\n",
      "Training accuracy: 0.9607200026512146. Testing accuracy: 0.8190000057220459.\n",
      "\n",
      "Epoch 49/50.\n",
      "Training accuracy: 0.9535799622535706. Testing accuracy: 0.8111000061035156.\n",
      "\n",
      "Epoch 50/50.\n",
      "Training accuracy: 0.9551599621772766. Testing accuracy: 0.8090999722480774.\n"
     ]
    },
    {
     "data": {
      "image/png": "[encoded data removed]",
      "text/plain": [
       "<Figure size 640x480 with 1 Axes>"
      ]
     },
     "metadata": {},
     "output_type": "display_data"
    },
    {
     "data": {
      "image/png": "[encoded data removed]",
      "text/plain": [
       "<Figure size 640x480 with 1 Axes>"
      ]
     },
     "metadata": {},
     "output_type": "display_data"
    }
   ],
   "source": [
    "losses = [] # Stores the loss for each training batch\n",
    "train_accs = [] # Stores the training accuracy after each epoch\n",
    "test_accs = [] # Stores the testing accuracy after each epoch\n",
    "\n",
    "num_epochs = 50\n",
    "for epoch in range(num_epochs):\n",
    "    print(f'\\nEpoch {epoch + 1}/{num_epochs}.')\n",
    "    for X, y in train_iter:\n",
    "        X, y = X.to(device), y.to(device)\n",
    "        logits = model(X) # Computes the logits for the batch of images `X`\n",
    "\n",
    "        l = loss(logits, y) # Computes the loss given the `logits` and the class vector `y`\n",
    "        optimizer.zero_grad() # Zeroes the gradients stored in the model parameters\n",
    "        l.backward() # Computes the gradient of the loss `l` with respect to the model parameters\n",
    "\n",
    "        optimizer.step() # Updates the model parameters based on the gradients stored inside them\n",
    "\n",
    "        losses.append(float(l)) # Stores the loss for this batch\n",
    "\n",
    "    with torch.no_grad(): # Computing performance metrics does not require gradients\n",
    "        train_accs.append(evaluate_metric(model, train_iter, correct))\n",
    "        test_accs.append(evaluate_metric(model, test_iter, correct))\n",
    "        print(f'Training accuracy: {train_accs[-1]}. Testing accuracy: {test_accs[-1]}.') # Computes and displays training/testing dataset accuracy.\n",
    "\n",
    "plt.plot(losses) # Plots the loss for each training batch\n",
    "plt.xlabel('Training batch')\n",
    "plt.ylabel('Cross entropy loss')\n",
    "plt.show()\n",
    "\n",
    "plt.plot(train_accs, label='Training accuracy')\n",
    "plt.plot(test_accs, label='Testing accuracy')\n",
    "plt.legend(loc='best')\n",
    "plt.xlabel('Epoch')\n",
    "plt.show()"
   ]
  }
 ],
 "metadata": {
  "kernelspec": {
   "display_name": "Python 3 (ipykernel)",
   "language": "python",
   "name": "python3"
  },
  "language_info": {
   "codemirror_mode": {
    "name": "ipython",
    "version": 3
   },
   "file_extension": ".py",
   "mimetype": "text/x-python",
   "name": "python",
   "nbconvert_exporter": "python",
   "pygments_lexer": "ipython3",
   "version": "3.11.7"
  }
 },
 "nbformat": 4,
 "nbformat_minor": 5
}
